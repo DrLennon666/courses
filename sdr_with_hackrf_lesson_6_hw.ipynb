{
  "nbformat": 4,
  "nbformat_minor": 0,
  "metadata": {
    "colab": {
      "name": "sdr_with_hackrf_lesson 6_hw.ipynb",
      "provenance": [],
      "authorship_tag": "ABX9TyMdfSoWq3yN/W2c3bloEfaq",
      "include_colab_link": true
    },
    "kernelspec": {
      "name": "python3",
      "display_name": "Python 3"
    }
  },
  "cells": [
    {
      "cell_type": "markdown",
      "metadata": {
        "id": "view-in-github",
        "colab_type": "text"
      },
      "source": [
        "<a href=\"https://colab.research.google.com/github/DrLennon666/courses/blob/master/sdr_with_hackrf_lesson_6_hw.ipynb\" target=\"_parent\"><img src=\"https://colab.research.google.com/assets/colab-badge.svg\" alt=\"Open In Colab\"/></a>"
      ]
    },
    {
      "cell_type": "markdown",
      "metadata": {
        "id": "K1Bl-3z5j4Bv"
      },
      "source": [
        "[**Homework**](https://greatscottgadgets.com/sdr/6/)\r\n",
        "1. A weather station measures wind direction once per minute. Write a program to indicate the average direction over a five minute period. Try it on the following sets of readings:\r\n",
        "- 12°, 15°, 13°, 9°, 16°\r\n",
        "- 358°, 1°, 359°, 355°, 2°\r\n",
        "- 210°, 290°, 10°, 90°, 170°\r\n",
        "2. Modify your program to handle wind speed input in addition to direction."
      ]
    },
    {
      "cell_type": "code",
      "metadata": {
        "id": "_GNuoXRJkDdc"
      },
      "source": [
        "import numpy as np"
      ],
      "execution_count": 1,
      "outputs": []
    },
    {
      "cell_type": "code",
      "metadata": {
        "id": "fj8h5lMnkb7t"
      },
      "source": [
        "def average_dir(dir_array, wind_array=None):\r\n",
        "\r\n",
        "  dir_len = len(dir_array)\r\n",
        "  if wind_array is None:\r\n",
        "    wind_array = np.ones(dir_len)\r\n",
        "  \r\n",
        "  assert(dir_len==len(wind_array))\r\n",
        "  dir_array = np.radians(dir_array)\r\n",
        "  x = np.mean(np.cos(dir_array)*wind_array)\r\n",
        "  y = np.mean(np.sin(dir_array)*wind_array)\r\n",
        "  \r\n",
        "  avg_vec = np.array([x,y])\r\n",
        "  avg_dir_rad = np.arccos(np.dot(avg_vec, (1,0))/np.linalg.norm(avg_vec))\r\n",
        "\r\n",
        "  return np.degrees(avg_dir_rad)"
      ],
      "execution_count": 81,
      "outputs": []
    },
    {
      "cell_type": "code",
      "metadata": {
        "id": "ZkOL6VikkV2Y"
      },
      "source": [
        "r1 = np.array([12, 15, 13, 9, 16])\r\n",
        "r2 = np.array([358, 1, 359, 355, 2])\r\n",
        "r3 = np.array([210, 290, 10, 90, 170])\r\n",
        "\r\n",
        "wind_1 =  np.random.rand(5)\r\n",
        "wind_2 =  np.random.rand(5)\r\n",
        "wind_3 =  np.random.rand(5)"
      ],
      "execution_count": 27,
      "outputs": []
    },
    {
      "cell_type": "code",
      "metadata": {
        "colab": {
          "base_uri": "https://localhost:8080/"
        },
        "id": "irFilN13kc_z",
        "outputId": "9433a322-3f83-4f0e-de62-fc6baaf2ae9d"
      },
      "source": [
        "for i in [r1,r2,r3]:\r\n",
        "  wind = np.random.rand(5)\r\n",
        "  print(average_dir(i, wind_array=wind))"
      ],
      "execution_count": 89,
      "outputs": [
        {
          "output_type": "stream",
          "text": [
            "13.45098011091686\n",
            "0.08010676953545767\n",
            "10.703221276381884\n"
          ],
          "name": "stdout"
        }
      ]
    }
  ]
}